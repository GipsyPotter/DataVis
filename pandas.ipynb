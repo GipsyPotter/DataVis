{
 "cells": [
  {
   "cell_type": "code",
   "execution_count": 40,
   "metadata": {
    "collapsed": true
   },
   "outputs": [
    {
     "name": "stdout",
     "output_type": "stream",
     "text": [
      "        name  age\n",
      "0     Porter   25\n",
      "1  Steideman   30\n",
      "2      David   35\n"
     ]
    }
   ],
   "source": [
    "#Data frames: DataFrame is a 2 dimensional data structure, like a table with rows and columns\n",
    "\n",
    "import pandas as pd\n",
    "data = {\"name\": [\"Porter\", \"Steideman\", \"David\"], \"age\": [25, 30, 35]}\n",
    "df = pd.DataFrame(data)\n",
    "print(df)"
   ]
  },
  {
   "cell_type": "code",
   "execution_count": 41,
   "outputs": [
    {
     "name": "stdout",
     "output_type": "stream",
     "text": [
      "        name  age\n",
      "0     Porter   25\n",
      "1  Steideman   30\n"
     ]
    }
   ],
   "source": [
    "#Head:  displays the first few rows of a Pandas DataFrame\n",
    "\n",
    "data = {\"name\": [\"Porter\", \"Steideman\", \"David\"], \"age\": [25, 30, 35]}\n",
    "df = pd.DataFrame(data)\n",
    "print(df.head(2))"
   ],
   "metadata": {
    "collapsed": false
   }
  },
  {
   "cell_type": "code",
   "execution_count": 42,
   "outputs": [
    {
     "name": "stdout",
     "output_type": "stream",
     "text": [
      "    name  age\n",
      "2  David   35\n"
     ]
    }
   ],
   "source": [
    "#Tail: displays the last few rows of a Pandas DataFrame.\n",
    "\n",
    "data = {\"name\": [\"Porter\", \"Steideman\", \"David\"], \"age\": [25, 30, 35]}\n",
    "df = pd.DataFrame(data)\n",
    "print(df.tail(1))"
   ],
   "metadata": {
    "collapsed": false
   }
  },
  {
   "cell_type": "code",
   "execution_count": 43,
   "outputs": [
    {
     "name": "stdout",
     "output_type": "stream",
     "text": [
      "name    Porter\n",
      "age         25\n",
      "Name: 0, dtype: object\n"
     ]
    }
   ],
   "source": [
    "#Locate Row: to return one or more specified row(s)\n",
    "\n",
    "data = {\"name\": [\"Porter\", \"Steideman\", \"David\"], \"age\": [25, 30, 35]}\n",
    "df = pd.DataFrame(data)\n",
    "print(df.loc[0])"
   ],
   "metadata": {
    "collapsed": false
   }
  },
  {
   "cell_type": "code",
   "execution_count": 44,
   "outputs": [
    {
     "name": "stdout",
     "output_type": "stream",
     "text": [
      "<bound method DataFrame.info of         name  age\n",
      "0     Porter   25\n",
      "1  Steideman   30\n",
      "2      David   35>\n"
     ]
    }
   ],
   "source": [
    "#Info: Giving more descriptions\n",
    "\n",
    "print(df.info)"
   ],
   "metadata": {
    "collapsed": false
   }
  },
  {
   "cell_type": "code",
   "execution_count": 45,
   "outputs": [
    {
     "name": "stdout",
     "output_type": "stream",
     "text": [
      "              name  age\n",
      "person1     Porter   25\n",
      "person2  Steideman   30\n",
      "person3      David   35\n"
     ]
    }
   ],
   "source": [
    "#Indexes: custom indexes\n",
    "\n",
    "df = pd.DataFrame(data, index = [\"person1\", \"person2\", \"person3\"])\n",
    "\n",
    "print(df)"
   ],
   "metadata": {
    "collapsed": false
   }
  },
  {
   "cell_type": "code",
   "execution_count": null,
   "outputs": [],
   "source": [
    "#Read csv files:\n",
    "\n",
    "df = pd.read_csv('[csv_file_loc].csv')"
   ],
   "metadata": {
    "collapsed": false
   }
  }
 ],
 "metadata": {
  "kernelspec": {
   "display_name": "Python 3",
   "language": "python",
   "name": "python3"
  },
  "language_info": {
   "codemirror_mode": {
    "name": "ipython",
    "version": 2
   },
   "file_extension": ".py",
   "mimetype": "text/x-python",
   "name": "python",
   "nbconvert_exporter": "python",
   "pygments_lexer": "ipython2",
   "version": "2.7.6"
  }
 },
 "nbformat": 4,
 "nbformat_minor": 0
}
