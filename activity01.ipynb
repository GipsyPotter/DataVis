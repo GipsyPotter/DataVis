{
 "cells": [
  {
   "cell_type": "markdown",
   "metadata": {},
   "source": [
    "## Activity 01: Use NumPy to compute the Mean, Median, and Variance"
   ]
  },
  {
   "cell_type": "markdown",
   "metadata": {},
   "source": [
    "In this activity, you will consolidate the skills you've acquired in the last exercise and use NumPy to do some very basic mathematical calculations on our `normal_distribution` dataset.   \n",
    "NumPy has a consistent API, so it should be rather easy to transfer your knowledge of the mean method to median and variance. "
   ]
  },
  {
   "cell_type": "markdown",
   "metadata": {},
   "source": [
    "#### Loading the dataset"
   ]
  },
  {
   "cell_type": "code",
   "execution_count": 215,
   "metadata": {},
   "outputs": [],
   "source": [
    "# importing the necessary dependencies\n",
    "import numpy as np"
   ]
  },
  {
   "cell_type": "code",
   "execution_count": 216,
   "metadata": {},
   "outputs": [],
   "source": [
    "# loading the Dataset\n",
    "dataset = np.genfromtxt('normal_distribution.csv', delimiter=',')"
   ]
  },
  {
   "cell_type": "code",
   "execution_count": 217,
   "metadata": {},
   "outputs": [
    {
     "name": "stdout",
     "output_type": "stream",
     "text": [
      "[[ 99.14931546 104.03852715 107.43534677  97.85230675  98.74986914\n",
      "   98.80833412  96.81964892  98.56783189]\n",
      " [ 92.02628776  97.10439252  99.32066924  97.24584816  92.9267508\n",
      "   92.65657752 105.7197853  101.23162942]]\n"
     ]
    }
   ],
   "source": [
    "# looking at the first two rows of the dataset\n",
    "print(dataset[:2])"
   ]
  },
  {
   "cell_type": "markdown",
   "metadata": {},
   "source": [
    "---"
   ]
  },
  {
   "cell_type": "markdown",
   "metadata": {},
   "source": [
    "#### Mean"
   ]
  },
  {
   "cell_type": "code",
   "execution_count": 218,
   "metadata": {},
   "outputs": [
    {
     "name": "stdout",
     "output_type": "stream",
     "text": [
      "100.56785907\n"
     ]
    }
   ],
   "source": [
    "# calculate the mean of the third row\n",
    "print(np.mean(dataset[3]))"
   ]
  },
  {
   "cell_type": "code",
   "execution_count": 219,
   "metadata": {},
   "outputs": [
    {
     "name": "stdout",
     "output_type": "stream",
     "text": [
      "100.4404927375\n"
     ]
    }
   ],
   "source": [
    "# calculate the mean of the last column\n",
    "print(np.mean(dataset[:, -1]))"
   ]
  },
  {
   "cell_type": "code",
   "execution_count": 220,
   "metadata": {},
   "outputs": [
    {
     "name": "stdout",
     "output_type": "stream",
     "text": [
      "97.87197312333333\n"
     ]
    }
   ],
   "source": [
    "# calculate the mean of the intersection of the first 3 rows and first 3 columns\n",
    "print(np.mean(dataset[:3,:3]))"
   ]
  },
  {
   "cell_type": "markdown",
   "metadata": {},
   "source": [
    "---"
   ]
  },
  {
   "cell_type": "markdown",
   "metadata": {},
   "source": [
    "#### Median"
   ]
  },
  {
   "cell_type": "code",
   "execution_count": 221,
   "metadata": {},
   "outputs": [
    {
     "name": "stdout",
     "output_type": "stream",
     "text": [
      "99.18748092\n"
     ]
    }
   ],
   "source": [
    "# calculate the median of the last row\n",
    "print(np.median(dataset[-1]))"
   ]
  },
  {
   "cell_type": "code",
   "execution_count": 222,
   "metadata": {},
   "outputs": [
    {
     "name": "stdout",
     "output_type": "stream",
     "text": [
      "99.47332349999999\n"
     ]
    }
   ],
   "source": [
    "# calculate the median of the last 3 columns\n",
    "data = dataset[:,-3:]\n",
    "# print(data)\n",
    "print(np.median(data))"
   ]
  },
  {
   "cell_type": "code",
   "execution_count": 223,
   "metadata": {},
   "outputs": [
    {
     "name": "stdout",
     "output_type": "stream",
     "text": [
      "98.77910163\n",
      "97.17512034\n",
      "98.58782879\n",
      "100.684498365\n",
      "101.001707375\n",
      "97.76908825\n",
      "101.85002253\n",
      "100.04756696999999\n",
      "102.242925555\n",
      "99.59514997\n",
      "100.49557530499999\n",
      "99.886071405\n",
      "99.006479935\n",
      "98.672761775\n",
      "102.44376222\n",
      "96.61933565499999\n",
      "104.0968893\n",
      "100.72023042500001\n",
      "98.70877396\n",
      "99.75008653500001\n",
      "104.89344427500001\n",
      "101.006349425\n",
      "98.305438015\n",
      "99.18748092\n"
     ]
    }
   ],
   "source": [
    "# calculate the median of each row\n",
    "nrow = dataset.shape[0]\n",
    "# print(nrow, dataset.shape)\n",
    "for i in range(nrow):\n",
    "    print(np.median(dataset[i]))"
   ]
  },
  {
   "cell_type": "markdown",
   "metadata": {},
   "source": [
    "---"
   ]
  },
  {
   "cell_type": "markdown",
   "metadata": {},
   "source": [
    "#### Variance"
   ]
  },
  {
   "cell_type": "code",
   "execution_count": 224,
   "metadata": {},
   "outputs": [
    {
     "name": "stdout",
     "output_type": "stream",
     "text": [
      "23.647574647546676\n",
      "29.78886108974666\n",
      "20.50542010670524\n",
      "26.03204443386493\n",
      "28.388531753037643\n",
      "19.099608170015305\n",
      "17.672911740506233\n",
      "16.179232042544072\n"
     ]
    }
   ],
   "source": [
    "# calculate the variance of each column\n",
    "ncol = dataset.shape[1]\n",
    "for j in range(ncol):\n",
    "    print(np.var(dataset[:,j]))"
   ]
  },
  {
   "cell_type": "code",
   "execution_count": 225,
   "metadata": {},
   "outputs": [
    {
     "name": "stdout",
     "output_type": "stream",
     "text": [
      "4.674691991769191\n"
     ]
    }
   ],
   "source": [
    "# calculate the variance of the intersection of the last 2 rows and first 2 columns\n",
    "data2 = dataset[-2:,:2]\n",
    "print(np.var(data2))"
   ]
  },
  {
   "cell_type": "markdown",
   "metadata": {},
   "source": [
    "The values of the variance might seem a little bit strange at first.   \n",
    "You can always go back to the topic that gives you a quick statistical overview to recap what you've learned so far.   \n",
    "\n",
    "> **Note:**   \n",
    "Just remember, the variance is not the standard deviation.   \n",
    "\n",
    "Try calculation the standard deviation with NumPy to get a more descriptive value when comparing it to our dataset"
   ]
  },
  {
   "cell_type": "code",
   "execution_count": 226,
   "metadata": {},
   "outputs": [
    {
     "name": "stdout",
     "output_type": "stream",
     "text": [
      "4.838197554269257\n"
     ]
    }
   ],
   "source": [
    "# calculate the standard deviation for the dataset\n",
    "print(np.std(dataset))"
   ]
  }
 ],
 "metadata": {
  "kernelspec": {
   "display_name": "Python 3",
   "language": "python",
   "name": "python3"
  },
  "language_info": {
   "codemirror_mode": {
    "name": "ipython",
    "version": 3
   },
   "file_extension": ".py",
   "mimetype": "text/x-python",
   "name": "python",
   "nbconvert_exporter": "python",
   "pygments_lexer": "ipython3",
   "version": "3.7.0"
  }
 },
 "nbformat": 4,
 "nbformat_minor": 2
}
